{
 "cells": [
  {
   "attachments": {},
   "cell_type": "markdown",
   "metadata": {},
   "source": [
    "# ODM Workflow"
   ]
  },
  {
   "attachments": {},
   "cell_type": "markdown",
   "metadata": {},
   "source": [
    "## Install OpenDroneMap:\n",
    "If you haven't already installed OpenDroneMap, you can download and install it by following the instructions in the official documentation: [https://opendronemap.org/odm/](https://opendronemap.org/odm/)"
   ]
  },
  {
   "attachments": {},
   "cell_type": "markdown",
   "metadata": {},
   "source": [
    "## Organize images\n",
    "Create a new directory and place all the aerial images you want to process in that directory. Make sure the images have geotags (GPS data), as this information is crucial for generating accurate orthomosaics."
   ]
  },
  {
   "cell_type": "code",
   "execution_count": 2,
   "metadata": {},
   "outputs": [
    {
     "name": "stdout",
     "output_type": "stream",
     "text": [
      "/Users/esamsoe/Desktop\n"
     ]
    }
   ],
   "source": [
    "# Specify working directory\n",
    "%cd ~/Desktop/"
   ]
  },
  {
   "cell_type": "code",
   "execution_count": 5,
   "metadata": {},
   "outputs": [
    {
     "name": "stdout",
     "output_type": "stream",
     "text": [
      "env: PROJECT_PATH=survey_processing/project_001/project\n",
      "env: IMAGES_PATH=mpg/survey/230321-Experimental_Garden/Survey/M3M/DJI_202303211520_006_Experimental_Garden/\n"
     ]
    }
   ],
   "source": [
    "%env PROJECT_PATH = survey_processing/project_001/project\n",
    "%env IMAGES_PATH = /path/to/images/"
   ]
  },
  {
   "cell_type": "code",
   "execution_count": 4,
   "metadata": {},
   "outputs": [],
   "source": [
    "%mkdir -p $PROJECT_PATH"
   ]
  },
  {
   "cell_type": "code",
   "execution_count": 6,
   "metadata": {},
   "outputs": [],
   "source": [
    "%cp $IMAGES_PATH/* $PROJECT_PATH"
   ]
  },
  {
   "attachments": {},
   "cell_type": "markdown",
   "metadata": {},
   "source": [
    "## Run OpenDroneMap\n",
    "To run ODM on the command line run the following command. To generate an orthophoto with a resolution of 1.5 cm/px using OpenDroneMap, include the --orthophoto-resolution flag. "
   ]
  },
  {
   "cell_type": "code",
   "execution_count": null,
   "metadata": {},
   "outputs": [],
   "source": [
    "docker run -ti --rm -v /my/project:/datasets/code opendronemap/odm --project-path /datasets\n"
   ]
  },
  {
   "attachments": {},
   "cell_type": "markdown",
   "metadata": {},
   "source": [
    "Replace /path/to/project with the path to the directory you created in \"Organize images\"."
   ]
  },
  {
   "cell_type": "markdown",
   "metadata": {},
   "source": []
  }
 ],
 "metadata": {
  "kernelspec": {
   "display_name": "Python 3 (ipykernel)",
   "language": "python",
   "name": "python3"
  },
  "language_info": {
   "codemirror_mode": {
    "name": "ipython",
    "version": 3
   },
   "file_extension": ".py",
   "mimetype": "text/x-python",
   "name": "python",
   "nbconvert_exporter": "python",
   "pygments_lexer": "ipython3",
   "version": "3.10.8"
  },
  "orig_nbformat": 4
 },
 "nbformat": 4,
 "nbformat_minor": 2
}
