{
 "cells": [
  {
   "cell_type": "code",
   "execution_count": 5,
   "id": "804ef22a",
   "metadata": {},
   "outputs": [],
   "source": [
    "import json\n",
    "import os"
   ]
  },
  {
   "cell_type": "code",
   "execution_count": 6,
   "id": "52520bcc",
   "metadata": {},
   "outputs": [],
   "source": [
    "survey = '230601_spurgepoly'\n",
    "\n",
    "config = {\n",
    "    'survey_res' : 1.37,\n",
    "    'compute_array_sz' : 50,\n",
    "    'gcp_res' : 200,\n",
    "    'flight_plan_url' : f'https://raw.githubusercontent.com/samsoe/mpg_aerial_survey/voronoi/surveys/{survey}/flightplan.kml',\n",
    "    'photo_manifest_url' : f'https://storage.googleapis.com/mpg-aerial-survey/surveys/{survey}/data_collection/m3m/manifest.csv',\n",
    "    'output_bucket' : 'mpg-aerial-survey/supporting_data/testing',\n",
    "    'gcp_editor_url' : None #None in the cases where GCPs not gathered\n",
    "}              \n",
    "\n",
    "local_path = '/Users/kdoherty'\n",
    "config_path = f'mpg_aerial_survey/surveys/{survey}'\n",
    "out_path = os.path.join(local_path, config_path, 'config_file.json')\n",
    "\n",
    "with open(out_path, 'w') as json_file:\n",
    "    json.dump(config, json_file, indent=4)"
   ]
  },
  {
   "cell_type": "code",
   "execution_count": null,
   "id": "5821ff03",
   "metadata": {},
   "outputs": [],
   "source": []
  }
 ],
 "metadata": {
  "kernelspec": {
   "display_name": "Python 3 (ipykernel)",
   "language": "python",
   "name": "python3"
  },
  "language_info": {
   "codemirror_mode": {
    "name": "ipython",
    "version": 3
   },
   "file_extension": ".py",
   "mimetype": "text/x-python",
   "name": "python",
   "nbconvert_exporter": "python",
   "pygments_lexer": "ipython3",
   "version": "3.10.4"
  }
 },
 "nbformat": 4,
 "nbformat_minor": 5
}
