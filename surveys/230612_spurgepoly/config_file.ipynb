{
 "cells": [
  {
   "cell_type": "code",
   "execution_count": 1,
   "id": "804ef22a",
   "metadata": {},
   "outputs": [],
   "source": [
    "import json\n",
    "import os\n",
    "import pandas as pd\n",
    "import geopandas as gpd\n",
    "import fiona\n",
    "from pyproj import CRS\n",
    "from shapely.geometry import Point\n",
    "fiona.drvsupport.supported_drivers['KML'] = 'rw'\n",
    "\n",
    "def load_kml(path):\n",
    "  df = gpd.GeoDataFrame()\n",
    "\n",
    "  # iterate over layers\n",
    "  for layer in fiona.listlayers(path):\n",
    "      s = gpd.read_file(path, driver='KML', layer=layer)\n",
    "      df = pd.concat([df, s], ignore_index=True)\n",
    "  return df"
   ]
  },
  {
   "cell_type": "code",
   "execution_count": 2,
   "id": "52520bcc",
   "metadata": {},
   "outputs": [],
   "source": [
    "survey = '230612_spurgepoly'\n",
    "\n",
    "config = {\n",
    "    'survey_res' : 1.32,\n",
    "    'compute_array_sz' : 10,\n",
    "    'gcp_res' : 200,\n",
    "    'flight_plan_url' : f'https://raw.githubusercontent.com/samsoe/mpg_aerial_survey/main/surveys/{survey}/flightplan.kml',\n",
    "    'photo_manifest_url' : f'https://storage.googleapis.com/mpg-aerial-survey/surveys/{survey}/data_collection/m3m/manifest.csv',\n",
    "    'output_bucket' : f'mpg-aerial-survey/surveys/{survey}/post_process/odm/upstream',\n",
    "    'gcp_editor_url' : f'https://raw.githubusercontent.com/samsoe/mpg_aerial_survey/main/surveys/{survey}/gcp_list.txt',\n",
    "    'optimization_base_url' : f'https://raw.githubusercontent.com/samsoe/mpg_aerial_survey/main/surveys/{survey}/optimization/'\n",
    "}              \n",
    "\n",
    "local_path = '/Users/kdoherty/'\n",
    "config_path = f'mpg_aerial_survey/surveys/{survey}'\n",
    "out_path = os.path.join(local_path, config_path, 'config_file.json')\n",
    "\n",
    "with open(out_path, 'w') as json_file:\n",
    "    json.dump(config, json_file, indent=4)"
   ]
  },
  {
   "cell_type": "code",
   "execution_count": 5,
   "id": "5821ff03",
   "metadata": {},
   "outputs": [
    {
     "name": "stderr",
     "output_type": "stream",
     "text": [
      "/opt/miniconda3/envs/ml/lib/python3.10/site-packages/IPython/core/interactiveshell.py:3338: FutureWarning: The `op` parameter is deprecated and will be removed in a future release. Please use the `predicate` parameter instead.\n",
      "  if await self.run_code(code, result, async_=asy):\n",
      "/var/folders/vp/1c12nhtx09ng562vszvlczthvwd07y/T/ipykernel_93914/3346547455.py:9: UserWarning: CRS mismatch between the CRS of left geometries and the CRS of right geometries.\n",
      "Use `to_crs()` to reproject one of the input geometries to match the CRS of the other.\n",
      "\n",
      "Left CRS: None\n",
      "Right CRS: EPSG:4326\n",
      "\n",
      "  gcps_flight = gpd.sjoin(gcps_points, flight_poly, how='inner', op='within')\n"
     ]
    }
   ],
   "source": [
    "flight_path = os.path.join(local_path, config_path, 'flightplan.kml')\n",
    "gcps_path = os.path.join(local_path, 'mpg_aerial_survey/gcp_kmls/upland_gcps_200m.csv')\n",
    "\n",
    "flight_poly = load_kml(flight_path)\n",
    "gcps_points = pd.read_csv(gcps_path)\n",
    "\n",
    "geometry = [Point(xy) for xy in zip(gcps_points.longitude, gcps_points.latitude)]\n",
    "gcps_points = gpd.GeoDataFrame(gcps_points, geometry=geometry)\n",
    "gcps_flight = gpd.sjoin(gcps_points, flight_poly, how='inner', op='within')\n",
    "\n",
    "columns_to_keep = ['name', 'longitude', 'latitude', 'ellipsoidal_height']\n",
    "\n",
    "# Filter the GeoDataFrame to retain only the specified columns\n",
    "filtered_data = gcps_flight.filter(columns_to_keep)\n",
    "new_columns = {col: col.replace('_', ' ') for col in filtered_data.columns}\n",
    "filtered_data.rename(columns=new_columns, inplace=True)\n",
    "gcps_out = os.path.join(local_path, config_path, 'gcps_roi.csv')\n",
    "\n",
    "filtered_data.to_csv(gcps_out, index=False)"
   ]
  },
  {
   "cell_type": "code",
   "execution_count": null,
   "id": "35d1d892",
   "metadata": {},
   "outputs": [],
   "source": []
  }
 ],
 "metadata": {
  "kernelspec": {
   "display_name": "Python 3 (ipykernel)",
   "language": "python",
   "name": "python3"
  },
  "language_info": {
   "codemirror_mode": {
    "name": "ipython",
    "version": 3
   },
   "file_extension": ".py",
   "mimetype": "text/x-python",
   "name": "python",
   "nbconvert_exporter": "python",
   "pygments_lexer": "ipython3",
   "version": "3.10.4"
  }
 },
 "nbformat": 4,
 "nbformat_minor": 5
}
