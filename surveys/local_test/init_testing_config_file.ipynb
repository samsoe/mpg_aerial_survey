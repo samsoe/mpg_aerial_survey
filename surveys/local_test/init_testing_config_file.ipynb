{
 "cells": [
  {
   "cell_type": "code",
   "execution_count": 2,
   "id": "804ef22a",
   "metadata": {},
   "outputs": [],
   "source": [
    "import json\n",
    "import os"
   ]
  },
  {
   "cell_type": "code",
   "execution_count": 11,
   "id": "52520bcc",
   "metadata": {},
   "outputs": [],
   "source": [
    "config = {\n",
    "    'survey_res' : 1.37,\n",
    "    'compute_array_sz' : 10,\n",
    "    'flight_plan_url' : 'https://storage.googleapis.com/mpg-aerial-survey/supporting_data/testing/june_full_spurge_flightplan.kml',\n",
    "    'photo_manifest_url' : 'https://storage.googleapis.com/mpg-aerial-survey/surveys/230515_dyetest_50m/data_collection/m3m/manifest.csv',\n",
    "    'output_bucket' : 'mpg-aerial-survey/supporting_data/testing',\n",
    "    'gcp_editor_url' : None #None in the cases where GCPs not gathered\n",
    "}              \n",
    "\n",
    "local_path = '/Users/kdoherty'\n",
    "config_path = 'mpg_aerial_survey/config_files'\n",
    "out_path = os.path.join(local_path, config_path, 'init_testing_config_file.json')\n",
    "\n",
    "with open(out_path, 'w') as json_file:\n",
    "    json.dump(config, json_file, indent=4)"
   ]
  }
 ],
 "metadata": {
  "kernelspec": {
   "display_name": "Python 3 (ipykernel)",
   "language": "python",
   "name": "python3"
  },
  "language_info": {
   "codemirror_mode": {
    "name": "ipython",
    "version": 3
   },
   "file_extension": ".py",
   "mimetype": "text/x-python",
   "name": "python",
   "nbconvert_exporter": "python",
   "pygments_lexer": "ipython3",
   "version": "3.10.4"
  }
 },
 "nbformat": 4,
 "nbformat_minor": 5
}
